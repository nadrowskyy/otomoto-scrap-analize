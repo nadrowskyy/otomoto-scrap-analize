{
  "nbformat": 4,
  "nbformat_minor": 0,
  "metadata": {
    "colab": {
      "name": "otomoto_analyze.ipynb",
      "provenance": [],
      "collapsed_sections": [],
      "authorship_tag": "ABX9TyPiKilYY2lr9IvIDDAdx4wM",
      "include_colab_link": true
    },
    "kernelspec": {
      "name": "python3",
      "display_name": "Python 3"
    },
    "language_info": {
      "name": "python"
    }
  },
  "cells": [
    {
      "cell_type": "markdown",
      "metadata": {
        "id": "view-in-github",
        "colab_type": "text"
      },
      "source": [
        "<a href=\"https://colab.research.google.com/github/nadrowskyy/otomoto-scrap-analize/blob/main/otomoto_analyze.ipynb\" target=\"_parent\"><img src=\"https://colab.research.google.com/assets/colab-badge.svg\" alt=\"Open In Colab\"/></a>"
      ]
    },
    {
      "cell_type": "code",
      "metadata": {
        "id": "Ev1FqgRr2oP8"
      },
      "source": [
        "import pandas as pd\n",
        "import matplotlib.pyplot as plt"
      ],
      "execution_count": null,
      "outputs": []
    },
    {
      "cell_type": "markdown",
      "metadata": {
        "id": "9dAGS-7Q4jOE"
      },
      "source": [
        "#### Plik z danymi aukcji z portalu Otomoto został umieszczony na githubie skąd będzie odczytywany do dalszej analizy"
      ]
    },
    {
      "cell_type": "code",
      "metadata": {
        "id": "KXdDaRKd20tZ"
      },
      "source": [
        "file = 'https://raw.githubusercontent.com/nadrowskyy/otomoto-scrap-analize/main/all_cars.csv'"
      ],
      "execution_count": null,
      "outputs": []
    },
    {
      "cell_type": "code",
      "metadata": {
        "id": "wSpMv1-a26n0"
      },
      "source": [
        "df = pd.read_csv(file, low_memory=False, parse_dates=['Pierwsza rejestracja', 'Data dodania'])"
      ],
      "execution_count": null,
      "outputs": []
    },
    {
      "cell_type": "markdown",
      "metadata": {
        "id": "zQqakO4c7YS5"
      },
      "source": [
        "#### Lista dostępnych kolumn w pliku prezentuje się następująco:"
      ]
    },
    {
      "cell_type": "code",
      "metadata": {
        "colab": {
          "base_uri": "https://localhost:8080/"
        },
        "id": "mKhwlyTP7j7u",
        "outputId": "33a62c31-b430-4217-c62b-8cb9d89fcaa7"
      },
      "source": [
        "df.columns.tolist()"
      ],
      "execution_count": null,
      "outputs": [
        {
          "output_type": "execute_result",
          "data": {
            "text/plain": [
              "['ID',\n",
              " 'Marka',\n",
              " 'Model',\n",
              " 'Miasto',\n",
              " 'Wojewodztwo',\n",
              " 'Moc',\n",
              " 'Poj. sil',\n",
              " 'Cena',\n",
              " 'Waluta',\n",
              " 'Kraj poch.',\n",
              " 'Czy zabytek',\n",
              " 'Czy zarej. w Polsce',\n",
              " 'Czy bezwypadkowy',\n",
              " 'Czy Anglik',\n",
              " 'Serwisowany w ASO',\n",
              " 'Filtr DPF',\n",
              " 'Generacja',\n",
              " 'Rok prod.',\n",
              " 'Pierwsza rejestracja',\n",
              " 'Przebieg',\n",
              " 'Oferta od',\n",
              " 'Czy leasing',\n",
              " 'Rodzaj paliwa',\n",
              " 'Emisja CO2',\n",
              " 'Typ',\n",
              " 'Kolor',\n",
              " 'Stan',\n",
              " 'Czy pierwsz. właśc',\n",
              " 'Napęd',\n",
              " 'Skrzynia biegów',\n",
              " 'Data dodania',\n",
              " 'Link']"
            ]
          },
          "metadata": {
            "tags": []
          },
          "execution_count": 66
        }
      ]
    },
    {
      "cell_type": "code",
      "metadata": {
        "id": "uQKCZIaI3Lwp"
      },
      "source": [
        "# konwertowanie kolumny Cena do wartości liczbowych, wcześniej wartości były stringami(object) i występowały błędy\n",
        "df['Cena'] = pd.to_numeric(df['Cena'], errors='coerce')"
      ],
      "execution_count": null,
      "outputs": []
    },
    {
      "cell_type": "code",
      "metadata": {
        "id": "xiK_r2mQ4LpR"
      },
      "source": [
        "df['ID'] = df['ID'].convert_dtypes()  # konwertowanie wartości z kolumny ID aby wyświetlały się prawidłowo"
      ],
      "execution_count": null,
      "outputs": []
    },
    {
      "cell_type": "markdown",
      "metadata": {
        "id": "-_UY5aAq5QJx"
      },
      "source": [
        "#### Koniecznym jest odrzucenie aukcji, które się powtarzają oraz tych które nie mają wartości w kolumnie ID."
      ]
    },
    {
      "cell_type": "code",
      "metadata": {
        "id": "25fxdj9A5b9K"
      },
      "source": [
        "df.drop_duplicates(subset=['ID'], keep=False)\n",
        "df.dropna(subset=['ID'], inplace=True)"
      ],
      "execution_count": null,
      "outputs": []
    },
    {
      "cell_type": "markdown",
      "metadata": {
        "id": "nEJbmykGAWe1"
      },
      "source": [
        "#### Procentowy udział cech we wszystkich ogłoszeniach. Cena występuje w 99.93% aukcji ale zważywszy na to, że będziemy analizować ceny aut konieczne będzie odrzucenie ogłoszeń gdzie nie jest ona podana."
      ]
    },
    {
      "cell_type": "code",
      "metadata": {
        "colab": {
          "base_uri": "https://localhost:8080/"
        },
        "id": "g427PO5wAbuf",
        "outputId": "1d005650-93f0-48a0-f8a1-61b3e9993bcd"
      },
      "source": [
        "df.count() / len(df) * 100"
      ],
      "execution_count": null,
      "outputs": [
        {
          "output_type": "execute_result",
          "data": {
            "text/plain": [
              "ID                      100.000000\n",
              "Marka                    99.994347\n",
              "Model                    99.994347\n",
              "Miasto                   99.993405\n",
              "Wojewodztwo              99.993405\n",
              "Moc                      99.559569\n",
              "Poj. sil                 99.039059\n",
              "Cena                     99.932640\n",
              "Waluta                   99.993405\n",
              "Kraj poch.               57.585778\n",
              "Czy zabytek              99.993405\n",
              "Czy zarej. w Polsce      48.265125\n",
              "Czy bezwypadkowy         57.156652\n",
              "Czy Anglik                0.219980\n",
              "Serwisowany w ASO        44.099636\n",
              "Filtr DPF                 7.076574\n",
              "Generacja                70.958397\n",
              "Rok prod.                99.993405\n",
              "Pierwsza rejestracja     40.276129\n",
              "Przebieg                 99.551090\n",
              "Oferta od                99.993405\n",
              "Czy leasing              15.696776\n",
              "Rodzaj paliwa            99.993405\n",
              "Emisja CO2               44.270156\n",
              "Typ                      99.993405\n",
              "Kolor                    99.993405\n",
              "Stan                     99.993405\n",
              "Czy pierwsz. właśc       32.110489\n",
              "Napęd                    92.834398\n",
              "Skrzynia biegów          99.638234\n",
              "Data dodania             99.993405\n",
              "Link                     99.993405\n",
              "dtype: float64"
            ]
          },
          "metadata": {
            "tags": []
          },
          "execution_count": 70
        }
      ]
    },
    {
      "cell_type": "code",
      "metadata": {
        "id": "l09pOoC9BhMT"
      },
      "source": [
        "df.dropna(subset=['Cena'], inplace=True)"
      ],
      "execution_count": null,
      "outputs": []
    },
    {
      "cell_type": "code",
      "metadata": {
        "colab": {
          "base_uri": "https://localhost:8080/"
        },
        "id": "62894C4t--Pz",
        "outputId": "3b5366ad-fba3-4a03-8ec4-4e26e52bddfa"
      },
      "source": [
        "df.shape  # wymiary ramki danych, 212149 rekordów, 32 kolumny"
      ],
      "execution_count": null,
      "outputs": [
        {
          "output_type": "execute_result",
          "data": {
            "text/plain": [
              "(212149, 32)"
            ]
          },
          "metadata": {
            "tags": []
          },
          "execution_count": 72
        }
      ]
    },
    {
      "cell_type": "code",
      "metadata": {
        "colab": {
          "base_uri": "https://localhost:8080/",
          "height": 808
        },
        "id": "6MLbhdnR4N5F",
        "outputId": "612063c4-8e73-4dab-ebed-50808f87a939"
      },
      "source": [
        "df"
      ],
      "execution_count": null,
      "outputs": [
        {
          "output_type": "execute_result",
          "data": {
            "text/html": [
              "<div>\n",
              "<style scoped>\n",
              "    .dataframe tbody tr th:only-of-type {\n",
              "        vertical-align: middle;\n",
              "    }\n",
              "\n",
              "    .dataframe tbody tr th {\n",
              "        vertical-align: top;\n",
              "    }\n",
              "\n",
              "    .dataframe thead th {\n",
              "        text-align: right;\n",
              "    }\n",
              "</style>\n",
              "<table border=\"1\" class=\"dataframe\">\n",
              "  <thead>\n",
              "    <tr style=\"text-align: right;\">\n",
              "      <th></th>\n",
              "      <th>ID</th>\n",
              "      <th>Marka</th>\n",
              "      <th>Model</th>\n",
              "      <th>Miasto</th>\n",
              "      <th>Wojewodztwo</th>\n",
              "      <th>Moc</th>\n",
              "      <th>Poj. sil</th>\n",
              "      <th>Cena</th>\n",
              "      <th>Waluta</th>\n",
              "      <th>Kraj poch.</th>\n",
              "      <th>Czy zabytek</th>\n",
              "      <th>Czy zarej. w Polsce</th>\n",
              "      <th>Czy bezwypadkowy</th>\n",
              "      <th>Czy Anglik</th>\n",
              "      <th>Serwisowany w ASO</th>\n",
              "      <th>Filtr DPF</th>\n",
              "      <th>Generacja</th>\n",
              "      <th>Rok prod.</th>\n",
              "      <th>Pierwsza rejestracja</th>\n",
              "      <th>Przebieg</th>\n",
              "      <th>Oferta od</th>\n",
              "      <th>Czy leasing</th>\n",
              "      <th>Rodzaj paliwa</th>\n",
              "      <th>Emisja CO2</th>\n",
              "      <th>Typ</th>\n",
              "      <th>Kolor</th>\n",
              "      <th>Stan</th>\n",
              "      <th>Czy pierwsz. właśc</th>\n",
              "      <th>Napęd</th>\n",
              "      <th>Skrzynia biegów</th>\n",
              "      <th>Data dodania</th>\n",
              "      <th>Link</th>\n",
              "    </tr>\n",
              "  </thead>\n",
              "  <tbody>\n",
              "    <tr>\n",
              "      <th>0</th>\n",
              "      <td>6084032404</td>\n",
              "      <td>abarth</td>\n",
              "      <td>124</td>\n",
              "      <td>Elbląg</td>\n",
              "      <td>Warmińsko-mazurskie</td>\n",
              "      <td>170.0</td>\n",
              "      <td>1368.0</td>\n",
              "      <td>104999.0</td>\n",
              "      <td>PLN</td>\n",
              "      <td>NaN</td>\n",
              "      <td>False</td>\n",
              "      <td>NaN</td>\n",
              "      <td>NaN</td>\n",
              "      <td>NaN</td>\n",
              "      <td>NaN</td>\n",
              "      <td>NaN</td>\n",
              "      <td>NaN</td>\n",
              "      <td>2018.0</td>\n",
              "      <td>NaN</td>\n",
              "      <td>20000.0</td>\n",
              "      <td>Osoby prywatnej</td>\n",
              "      <td>NaN</td>\n",
              "      <td>Benzyna</td>\n",
              "      <td>NaN</td>\n",
              "      <td>Kabriolet</td>\n",
              "      <td>Czarny</td>\n",
              "      <td>Używane</td>\n",
              "      <td>NaN</td>\n",
              "      <td>NaN</td>\n",
              "      <td>Manualna</td>\n",
              "      <td>2021-04-07 15:26:00</td>\n",
              "      <td>https://www.otomoto.pl/oferta/abarth-124-abart...</td>\n",
              "    </tr>\n",
              "    <tr>\n",
              "      <th>1</th>\n",
              "      <td>6083911812</td>\n",
              "      <td>abarth</td>\n",
              "      <td>500</td>\n",
              "      <td>Wągrowiec</td>\n",
              "      <td>Wielkopolskie</td>\n",
              "      <td>145.0</td>\n",
              "      <td>1368.0</td>\n",
              "      <td>69900.0</td>\n",
              "      <td>PLN</td>\n",
              "      <td>NaN</td>\n",
              "      <td>False</td>\n",
              "      <td>NaN</td>\n",
              "      <td>NaN</td>\n",
              "      <td>NaN</td>\n",
              "      <td>NaN</td>\n",
              "      <td>NaN</td>\n",
              "      <td>NaN</td>\n",
              "      <td>2018.0</td>\n",
              "      <td>NaN</td>\n",
              "      <td>19000.0</td>\n",
              "      <td>Firmy</td>\n",
              "      <td>NaN</td>\n",
              "      <td>Benzyna</td>\n",
              "      <td>139.0</td>\n",
              "      <td>Auta małe</td>\n",
              "      <td>Biały</td>\n",
              "      <td>Używane</td>\n",
              "      <td>NaN</td>\n",
              "      <td>Na przednie koła</td>\n",
              "      <td>Manualna</td>\n",
              "      <td>2021-04-12 15:08:00</td>\n",
              "      <td>https://www.otomoto.pl/oferta/abarth-500-abart...</td>\n",
              "    </tr>\n",
              "    <tr>\n",
              "      <th>2</th>\n",
              "      <td>6083978833</td>\n",
              "      <td>abarth</td>\n",
              "      <td>500</td>\n",
              "      <td>Warszawa</td>\n",
              "      <td>Mazowieckie</td>\n",
              "      <td>140.0</td>\n",
              "      <td>1368.0</td>\n",
              "      <td>48900.0</td>\n",
              "      <td>PLN</td>\n",
              "      <td>NaN</td>\n",
              "      <td>False</td>\n",
              "      <td>False</td>\n",
              "      <td>True</td>\n",
              "      <td>NaN</td>\n",
              "      <td>True</td>\n",
              "      <td>NaN</td>\n",
              "      <td>NaN</td>\n",
              "      <td>2011.0</td>\n",
              "      <td>2011-02-04 00:00:00</td>\n",
              "      <td>110000.0</td>\n",
              "      <td>Firmy</td>\n",
              "      <td>NaN</td>\n",
              "      <td>Benzyna</td>\n",
              "      <td>NaN</td>\n",
              "      <td>Auta małe</td>\n",
              "      <td>Szary</td>\n",
              "      <td>Używane</td>\n",
              "      <td>NaN</td>\n",
              "      <td>Na przednie koła</td>\n",
              "      <td>Automatyczna</td>\n",
              "      <td>2021-04-12 12:46:00</td>\n",
              "      <td>https://www.otomoto.pl/oferta/abarth-500-abart...</td>\n",
              "    </tr>\n",
              "    <tr>\n",
              "      <th>3</th>\n",
              "      <td>6080145032</td>\n",
              "      <td>abarth</td>\n",
              "      <td>500</td>\n",
              "      <td>Szamotuły</td>\n",
              "      <td>Wielkopolskie</td>\n",
              "      <td>180.0</td>\n",
              "      <td>1398.0</td>\n",
              "      <td>46900.0</td>\n",
              "      <td>PLN</td>\n",
              "      <td>NaN</td>\n",
              "      <td>False</td>\n",
              "      <td>False</td>\n",
              "      <td>NaN</td>\n",
              "      <td>NaN</td>\n",
              "      <td>NaN</td>\n",
              "      <td>NaN</td>\n",
              "      <td>NaN</td>\n",
              "      <td>2015.0</td>\n",
              "      <td>NaN</td>\n",
              "      <td>150659.0</td>\n",
              "      <td>Firmy</td>\n",
              "      <td>NaN</td>\n",
              "      <td>Benzyna</td>\n",
              "      <td>NaN</td>\n",
              "      <td>Auta małe</td>\n",
              "      <td>Czerwony</td>\n",
              "      <td>Używane</td>\n",
              "      <td>NaN</td>\n",
              "      <td>Na przednie koła</td>\n",
              "      <td>Automatyczna</td>\n",
              "      <td>2021-04-10 16:11:00</td>\n",
              "      <td>https://www.otomoto.pl/oferta/abarth-500-bardz...</td>\n",
              "    </tr>\n",
              "    <tr>\n",
              "      <th>4</th>\n",
              "      <td>6080419505</td>\n",
              "      <td>abarth</td>\n",
              "      <td>500</td>\n",
              "      <td>Gorlice</td>\n",
              "      <td>Małopolskie</td>\n",
              "      <td>185.0</td>\n",
              "      <td>1368.0</td>\n",
              "      <td>49900.0</td>\n",
              "      <td>PLN</td>\n",
              "      <td>Stany Zjednoczone</td>\n",
              "      <td>False</td>\n",
              "      <td>False</td>\n",
              "      <td>True</td>\n",
              "      <td>NaN</td>\n",
              "      <td>NaN</td>\n",
              "      <td>NaN</td>\n",
              "      <td>NaN</td>\n",
              "      <td>2015.0</td>\n",
              "      <td>NaN</td>\n",
              "      <td>22500.0</td>\n",
              "      <td>Osoby prywatnej</td>\n",
              "      <td>NaN</td>\n",
              "      <td>Benzyna</td>\n",
              "      <td>NaN</td>\n",
              "      <td>Auta małe</td>\n",
              "      <td>Żółty</td>\n",
              "      <td>Używane</td>\n",
              "      <td>NaN</td>\n",
              "      <td>Na przednie koła</td>\n",
              "      <td>Automatyczna</td>\n",
              "      <td>2021-04-09 10:33:00</td>\n",
              "      <td>https://www.otomoto.pl/oferta/abarth-500-abart...</td>\n",
              "    </tr>\n",
              "    <tr>\n",
              "      <th>...</th>\n",
              "      <td>...</td>\n",
              "      <td>...</td>\n",
              "      <td>...</td>\n",
              "      <td>...</td>\n",
              "      <td>...</td>\n",
              "      <td>...</td>\n",
              "      <td>...</td>\n",
              "      <td>...</td>\n",
              "      <td>...</td>\n",
              "      <td>...</td>\n",
              "      <td>...</td>\n",
              "      <td>...</td>\n",
              "      <td>...</td>\n",
              "      <td>...</td>\n",
              "      <td>...</td>\n",
              "      <td>...</td>\n",
              "      <td>...</td>\n",
              "      <td>...</td>\n",
              "      <td>...</td>\n",
              "      <td>...</td>\n",
              "      <td>...</td>\n",
              "      <td>...</td>\n",
              "      <td>...</td>\n",
              "      <td>...</td>\n",
              "      <td>...</td>\n",
              "      <td>...</td>\n",
              "      <td>...</td>\n",
              "      <td>...</td>\n",
              "      <td>...</td>\n",
              "      <td>...</td>\n",
              "      <td>...</td>\n",
              "      <td>...</td>\n",
              "    </tr>\n",
              "    <tr>\n",
              "      <th>212902</th>\n",
              "      <td>6084195363</td>\n",
              "      <td>zuk</td>\n",
              "      <td>other</td>\n",
              "      <td>Włocławek</td>\n",
              "      <td>Kujawsko-pomorskie</td>\n",
              "      <td>70.0</td>\n",
              "      <td>2120.0</td>\n",
              "      <td>10900.0</td>\n",
              "      <td>PLN</td>\n",
              "      <td>Polska</td>\n",
              "      <td>False</td>\n",
              "      <td>NaN</td>\n",
              "      <td>True</td>\n",
              "      <td>NaN</td>\n",
              "      <td>NaN</td>\n",
              "      <td>NaN</td>\n",
              "      <td>NaN</td>\n",
              "      <td>1970.0</td>\n",
              "      <td>NaN</td>\n",
              "      <td>63518.0</td>\n",
              "      <td>Osoby prywatnej</td>\n",
              "      <td>NaN</td>\n",
              "      <td>Benzyna</td>\n",
              "      <td>NaN</td>\n",
              "      <td>Kombi</td>\n",
              "      <td>Inny kolor</td>\n",
              "      <td>Używane</td>\n",
              "      <td>NaN</td>\n",
              "      <td>Na tylne koła</td>\n",
              "      <td>Manualna</td>\n",
              "      <td>2021-04-12 14:43:00</td>\n",
              "      <td>https://www.otomoto.pl/oferta/zuk-zuk-a15-smut...</td>\n",
              "    </tr>\n",
              "    <tr>\n",
              "      <th>212903</th>\n",
              "      <td>6084139185</td>\n",
              "      <td>zuk</td>\n",
              "      <td>other</td>\n",
              "      <td>Pobierowo</td>\n",
              "      <td>Zachodniopomorskie</td>\n",
              "      <td>61.0</td>\n",
              "      <td>2417.0</td>\n",
              "      <td>2500.0</td>\n",
              "      <td>PLN</td>\n",
              "      <td>NaN</td>\n",
              "      <td>False</td>\n",
              "      <td>NaN</td>\n",
              "      <td>NaN</td>\n",
              "      <td>NaN</td>\n",
              "      <td>NaN</td>\n",
              "      <td>NaN</td>\n",
              "      <td>NaN</td>\n",
              "      <td>1991.0</td>\n",
              "      <td>1991-09-18 00:00:00</td>\n",
              "      <td>60000.0</td>\n",
              "      <td>Osoby prywatnej</td>\n",
              "      <td>NaN</td>\n",
              "      <td>Diesel</td>\n",
              "      <td>NaN</td>\n",
              "      <td>SUV</td>\n",
              "      <td>Zielony</td>\n",
              "      <td>Używane</td>\n",
              "      <td>NaN</td>\n",
              "      <td>NaN</td>\n",
              "      <td>Manualna</td>\n",
              "      <td>2021-04-12 10:56:00</td>\n",
              "      <td>https://www.otomoto.pl/oferta/zuk-sprzedam-zuk...</td>\n",
              "    </tr>\n",
              "    <tr>\n",
              "      <th>212904</th>\n",
              "      <td>6082968006</td>\n",
              "      <td>zuk</td>\n",
              "      <td>other</td>\n",
              "      <td>Złotów</td>\n",
              "      <td>Wielkopolskie</td>\n",
              "      <td>60.0</td>\n",
              "      <td>2120.0</td>\n",
              "      <td>6900.0</td>\n",
              "      <td>PLN</td>\n",
              "      <td>NaN</td>\n",
              "      <td>False</td>\n",
              "      <td>NaN</td>\n",
              "      <td>NaN</td>\n",
              "      <td>NaN</td>\n",
              "      <td>NaN</td>\n",
              "      <td>NaN</td>\n",
              "      <td>NaN</td>\n",
              "      <td>1977.0</td>\n",
              "      <td>1977-06-11 00:00:00</td>\n",
              "      <td>11880.0</td>\n",
              "      <td>Osoby prywatnej</td>\n",
              "      <td>NaN</td>\n",
              "      <td>Benzyna</td>\n",
              "      <td>NaN</td>\n",
              "      <td>SUV</td>\n",
              "      <td>Czerwony</td>\n",
              "      <td>Używane</td>\n",
              "      <td>NaN</td>\n",
              "      <td>NaN</td>\n",
              "      <td>Manualna</td>\n",
              "      <td>2021-04-08 17:32:00</td>\n",
              "      <td>https://www.otomoto.pl/oferta/zuk-ID6DFwRc.htm...</td>\n",
              "    </tr>\n",
              "    <tr>\n",
              "      <th>212905</th>\n",
              "      <td>6075025974</td>\n",
              "      <td>zuk</td>\n",
              "      <td>other</td>\n",
              "      <td>Koszalin</td>\n",
              "      <td>Zachodniopomorskie</td>\n",
              "      <td>70.0</td>\n",
              "      <td>2120.0</td>\n",
              "      <td>11900.0</td>\n",
              "      <td>PLN</td>\n",
              "      <td>NaN</td>\n",
              "      <td>False</td>\n",
              "      <td>NaN</td>\n",
              "      <td>NaN</td>\n",
              "      <td>NaN</td>\n",
              "      <td>NaN</td>\n",
              "      <td>NaN</td>\n",
              "      <td>NaN</td>\n",
              "      <td>1985.0</td>\n",
              "      <td>NaN</td>\n",
              "      <td>20056.0</td>\n",
              "      <td>Firmy</td>\n",
              "      <td>NaN</td>\n",
              "      <td>Benzyna</td>\n",
              "      <td>NaN</td>\n",
              "      <td>Minivan</td>\n",
              "      <td>Czerwony</td>\n",
              "      <td>Używane</td>\n",
              "      <td>NaN</td>\n",
              "      <td>NaN</td>\n",
              "      <td>Manualna</td>\n",
              "      <td>2021-04-05 11:57:00</td>\n",
              "      <td>https://www.otomoto.pl/oferta/zuk-straz-pozarn...</td>\n",
              "    </tr>\n",
              "    <tr>\n",
              "      <th>212906</th>\n",
              "      <td>6073542422</td>\n",
              "      <td>zuk</td>\n",
              "      <td>other</td>\n",
              "      <td>Ostrowiec Świętokrzyski</td>\n",
              "      <td>Świętokrzyskie</td>\n",
              "      <td>1.0</td>\n",
              "      <td>2120.0</td>\n",
              "      <td>24600.0</td>\n",
              "      <td>PLN</td>\n",
              "      <td>NaN</td>\n",
              "      <td>False</td>\n",
              "      <td>False</td>\n",
              "      <td>NaN</td>\n",
              "      <td>NaN</td>\n",
              "      <td>NaN</td>\n",
              "      <td>NaN</td>\n",
              "      <td>NaN</td>\n",
              "      <td>1997.0</td>\n",
              "      <td>NaN</td>\n",
              "      <td>46600.0</td>\n",
              "      <td>Osoby prywatnej</td>\n",
              "      <td>NaN</td>\n",
              "      <td>Benzyna+LPG</td>\n",
              "      <td>NaN</td>\n",
              "      <td>Minivan</td>\n",
              "      <td>Brązowy</td>\n",
              "      <td>Używane</td>\n",
              "      <td>NaN</td>\n",
              "      <td>Na tylne koła</td>\n",
              "      <td>Manualna</td>\n",
              "      <td>2021-04-04 07:34:00</td>\n",
              "      <td>https://www.otomoto.pl/oferta/zuk-zuk-a-06-199...</td>\n",
              "    </tr>\n",
              "  </tbody>\n",
              "</table>\n",
              "<p>212149 rows × 32 columns</p>\n",
              "</div>"
            ],
            "text/plain": [
              "                ID  ...                                               Link\n",
              "0       6084032404  ...  https://www.otomoto.pl/oferta/abarth-124-abart...\n",
              "1       6083911812  ...  https://www.otomoto.pl/oferta/abarth-500-abart...\n",
              "2       6083978833  ...  https://www.otomoto.pl/oferta/abarth-500-abart...\n",
              "3       6080145032  ...  https://www.otomoto.pl/oferta/abarth-500-bardz...\n",
              "4       6080419505  ...  https://www.otomoto.pl/oferta/abarth-500-abart...\n",
              "...            ...  ...                                                ...\n",
              "212902  6084195363  ...  https://www.otomoto.pl/oferta/zuk-zuk-a15-smut...\n",
              "212903  6084139185  ...  https://www.otomoto.pl/oferta/zuk-sprzedam-zuk...\n",
              "212904  6082968006  ...  https://www.otomoto.pl/oferta/zuk-ID6DFwRc.htm...\n",
              "212905  6075025974  ...  https://www.otomoto.pl/oferta/zuk-straz-pozarn...\n",
              "212906  6073542422  ...  https://www.otomoto.pl/oferta/zuk-zuk-a-06-199...\n",
              "\n",
              "[212149 rows x 32 columns]"
            ]
          },
          "metadata": {
            "tags": []
          },
          "execution_count": 73
        }
      ]
    },
    {
      "cell_type": "code",
      "metadata": {
        "colab": {
          "base_uri": "https://localhost:8080/"
        },
        "id": "GFl7v2VR6R-V",
        "outputId": "2e3140e3-8134-406e-ca6d-859ad6a53e48"
      },
      "source": [
        "df.isna().sum()  # ile wartości jest NULL dla każdej kolumny, dla ID jest 0 bo wcześniej usunęliśmy wartości null"
      ],
      "execution_count": null,
      "outputs": [
        {
          "output_type": "execute_result",
          "data": {
            "text/plain": [
              "ID                           0\n",
              "Marka                        0\n",
              "Model                        0\n",
              "Miasto                       0\n",
              "Wojewodztwo                  0\n",
              "Moc                        921\n",
              "Poj. sil                  2023\n",
              "Cena                         0\n",
              "Waluta                       0\n",
              "Kraj poch.               89946\n",
              "Czy zabytek                  0\n",
              "Czy zarej. w Polsce     109738\n",
              "Czy bezwypadkowy         90925\n",
              "Czy Anglik              211682\n",
              "Serwisowany w ASO       118573\n",
              "Filtr DPF               197139\n",
              "Generacja                61586\n",
              "Rok prod.                    0\n",
              "Pierwsza rejestracja    126682\n",
              "Przebieg                   939\n",
              "Oferta od                    0\n",
              "Czy leasing             178888\n",
              "Rodzaj paliwa                0\n",
              "Emisja CO2              118231\n",
              "Typ                          0\n",
              "Kolor                        0\n",
              "Stan                         0\n",
              "Czy pierwsz. właśc      144024\n",
              "Napęd                    15196\n",
              "Skrzynia biegów            754\n",
              "Data dodania                 0\n",
              "Link                         0\n",
              "dtype: int64"
            ]
          },
          "metadata": {
            "tags": []
          },
          "execution_count": 74
        }
      ]
    },
    {
      "cell_type": "markdown",
      "metadata": {
        "id": "gCPmLhfz7utK"
      },
      "source": [
        "#### Wykres ilości aut w zależności od marki"
      ]
    },
    {
      "cell_type": "code",
      "metadata": {
        "colab": {
          "base_uri": "https://localhost:8080/",
          "height": 1000
        },
        "id": "2HjCRFeG4O4g",
        "outputId": "895b3201-d23b-40b0-dc52-bd4f4e689a3e"
      },
      "source": [
        "plot1 = df['Marka'].value_counts(ascending=True).plot(kind='barh', figsize=(12,26), fontsize=15, title='Liczba oferowanych aut według marek')\n",
        "plot1.set_xlabel(\"Liczba aut\", fontsize=18)\n",
        "plot1.title.set_size(22)"
      ],
      "execution_count": null,
      "outputs": [
        {
          "output_type": "display_data",
          "data": {
            "image/png": "[encoded data removed]",
            "text/plain": [
              "<Figure size 864x1872 with 1 Axes>"
            ]
          },
          "metadata": {
            "tags": [],
            "needs_background": "light"
          }
        }
      ]
    },
    {
      "cell_type": "markdown",
      "metadata": {
        "id": "f-dYu65KYbqO"
      },
      "source": [
        "Procentowy udział marek w ogłoszeniach (TOP10)."
      ]
    },
    {
      "cell_type": "code",
      "metadata": {
        "colab": {
          "base_uri": "https://localhost:8080/"
        },
        "id": "00ecxveOYkbi",
        "outputId": "861d6593-a7d5-418f-8616-c5285f52a4e7"
      },
      "source": [
        "df['Marka'].value_counts(normalize=True).nlargest(10) * 100  # tutaj jeszcze do poprawy żeby ładnie były wyświetlone procenty"
      ],
      "execution_count": null,
      "outputs": [
        {
          "output_type": "execute_result",
          "data": {
            "text/plain": [
              "volkswagen       8.197069\n",
              "bmw              7.961857\n",
              "opel             7.823747\n",
              "audi             7.661125\n",
              "ford             7.639442\n",
              "mercedes-benz    5.502265\n",
              "renault          5.181735\n",
              "skoda            4.857435\n",
              "toyota           4.796157\n",
              "peugeot          4.271055\n",
              "Name: Marka, dtype: float64"
            ]
          },
          "metadata": {
            "tags": []
          },
          "execution_count": 84
        }
      ]
    },
    {
      "cell_type": "code",
      "metadata": {
        "id": "0nqrkeu6YmpN"
      },
      "source": [
        ""
      ],
      "execution_count": null,
      "outputs": []
    }
  ]
}