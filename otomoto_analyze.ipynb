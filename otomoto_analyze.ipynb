{
  "nbformat": 4,
  "nbformat_minor": 0,
  "metadata": {
    "colab": {
      "name": "otomoto_analyze.ipynb",
      "provenance": [],
      "collapsed_sections": [],
      "authorship_tag": "ABX9TyPKt8lNvbGKGHKi2vqXNHcr",
      "include_colab_link": true
    },
    "kernelspec": {
      "name": "python3",
      "display_name": "Python 3"
    },
    "language_info": {
      "name": "python"
    }
  },
  "cells": [
    {
      "cell_type": "markdown",
      "metadata": {
        "id": "view-in-github",
        "colab_type": "text"
      },
      "source": [
        "<a href=\"https://colab.research.google.com/github/nadrowskyy/otomoto-scrap-analize/blob/main/otomoto_analyze.ipynb\" target=\"_parent\"><img src=\"https://colab.research.google.com/assets/colab-badge.svg\" alt=\"Open In Colab\"/></a>"
      ]
    },
    {
      "cell_type": "code",
      "metadata": {
        "id": "Ev1FqgRr2oP8"
      },
      "source": [
        "import pandas as pd\n",
        "import matplotlib.pyplot as plt"
      ],
      "execution_count": 1,
      "outputs": []
    },
    {
      "cell_type": "markdown",
      "metadata": {
        "id": "9dAGS-7Q4jOE"
      },
      "source": [
        "#### Plik z danymi aukcji z portalu Otomoto został umieszczony na githubie skąd będzie odczytywany do dalszej analizy"
      ]
    },
    {
      "cell_type": "code",
      "metadata": {
        "id": "KXdDaRKd20tZ"
      },
      "source": [
        "file = 'https://raw.githubusercontent.com/nadrowskyy/otomoto-scrap-analize/main/all_cars.csv'"
      ],
      "execution_count": 2,
      "outputs": []
    },
    {
      "cell_type": "code",
      "metadata": {
        "id": "wSpMv1-a26n0"
      },
      "source": [
        "df = pd.read_csv(file, low_memory=False, parse_dates=['Pierwsza rejestracja', 'Data dodania'])"
      ],
      "execution_count": 3,
      "outputs": []
    },
    {
      "cell_type": "markdown",
      "metadata": {
        "id": "zQqakO4c7YS5"
      },
      "source": [
        "#### Lista dostępnych kolumn w pliku prezentuje się następująco:"
      ]
    },
    {
      "cell_type": "code",
      "metadata": {
        "colab": {
          "base_uri": "https://localhost:8080/"
        },
        "id": "mKhwlyTP7j7u",
        "outputId": "f8589b4e-d440-4b51-f00e-79d66c105ae0"
      },
      "source": [
        "df.columns.tolist()"
      ],
      "execution_count": 4,
      "outputs": [
        {
          "output_type": "execute_result",
          "data": {
            "text/plain": [
              "['ID',\n",
              " 'Marka',\n",
              " 'Model',\n",
              " 'Miasto',\n",
              " 'Wojewodztwo',\n",
              " 'Moc',\n",
              " 'Poj. sil',\n",
              " 'Cena',\n",
              " 'Waluta',\n",
              " 'Kraj poch.',\n",
              " 'Czy zabytek',\n",
              " 'Czy zarej. w Polsce',\n",
              " 'Czy bezwypadkowy',\n",
              " 'Czy Anglik',\n",
              " 'Serwisowany w ASO',\n",
              " 'Filtr DPF',\n",
              " 'Generacja',\n",
              " 'Rok prod.',\n",
              " 'Pierwsza rejestracja',\n",
              " 'Przebieg',\n",
              " 'Oferta od',\n",
              " 'Czy leasing',\n",
              " 'Rodzaj paliwa',\n",
              " 'Emisja CO2',\n",
              " 'Typ',\n",
              " 'Kolor',\n",
              " 'Stan',\n",
              " 'Czy pierwsz. właśc',\n",
              " 'Napęd',\n",
              " 'Skrzynia biegów',\n",
              " 'Data dodania',\n",
              " 'Link']"
            ]
          },
          "metadata": {
            "tags": []
          },
          "execution_count": 4
        }
      ]
    },
    {
      "cell_type": "code",
      "metadata": {
        "id": "uQKCZIaI3Lwp"
      },
      "source": [
        "# konwertowanie kolumny Cena do wartości liczbowych, wcześniej wartości były stringami(object) i występowały błędy\n",
        "df['Cena'] = pd.to_numeric(df['Cena'], errors='coerce')"
      ],
      "execution_count": 5,
      "outputs": []
    },
    {
      "cell_type": "code",
      "metadata": {
        "id": "xiK_r2mQ4LpR"
      },
      "source": [
        "df['ID'] = df['ID'].convert_dtypes()  # konwertowanie wartości z kolumny ID aby wyświetlały się prawidłowo"
      ],
      "execution_count": 6,
      "outputs": []
    },
    {
      "cell_type": "markdown",
      "metadata": {
        "id": "-_UY5aAq5QJx"
      },
      "source": [
        "#### Koniecznym jest odrzucenie aukcji, które się powtarzają oraz tych które nie mają wartości w kolumnie ID."
      ]
    },
    {
      "cell_type": "code",
      "metadata": {
        "id": "25fxdj9A5b9K"
      },
      "source": [
        "df.drop_duplicates(subset=['ID'], keep=False)\n",
        "df.dropna(subset=['ID'], inplace=True)"
      ],
      "execution_count": 7,
      "outputs": []
    },
    {
      "cell_type": "markdown",
      "metadata": {
        "id": "nEJbmykGAWe1"
      },
      "source": [
        "#### Procentowy udział cech we wszystkich ogłoszeniach. Cena występuje w 99.93% aukcji ale zważywszy na to, że będziemy analizować ceny aut konieczne będzie odrzucenie ogłoszeń gdzie nie jest ona podana."
      ]
    },
    {
      "cell_type": "code",
      "metadata": {
        "colab": {
          "base_uri": "https://localhost:8080/"
        },
        "id": "g427PO5wAbuf",
        "outputId": "95833a23-afa9-425d-93ef-68726462dc22"
      },
      "source": [
        "df.count() / len(df) * 100"
      ],
      "execution_count": 8,
      "outputs": [
        {
          "output_type": "execute_result",
          "data": {
            "text/plain": [
              "ID                      100.000000\n",
              "Marka                    99.994347\n",
              "Model                    99.994347\n",
              "Miasto                   99.993405\n",
              "Wojewodztwo              99.993405\n",
              "Moc                      99.559569\n",
              "Poj. sil                 99.039059\n",
              "Cena                     99.932640\n",
              "Waluta                   99.993405\n",
              "Kraj poch.               57.585778\n",
              "Czy zabytek              99.993405\n",
              "Czy zarej. w Polsce      48.265125\n",
              "Czy bezwypadkowy         57.156652\n",
              "Czy Anglik                0.219980\n",
              "Serwisowany w ASO        44.099636\n",
              "Filtr DPF                 7.076574\n",
              "Generacja                70.958397\n",
              "Rok prod.                99.993405\n",
              "Pierwsza rejestracja     40.276129\n",
              "Przebieg                 99.551090\n",
              "Oferta od                99.993405\n",
              "Czy leasing              15.696776\n",
              "Rodzaj paliwa            99.993405\n",
              "Emisja CO2               44.270156\n",
              "Typ                      99.993405\n",
              "Kolor                    99.993405\n",
              "Stan                     99.993405\n",
              "Czy pierwsz. właśc       32.110489\n",
              "Napęd                    92.834398\n",
              "Skrzynia biegów          99.638234\n",
              "Data dodania             99.993405\n",
              "Link                     99.993405\n",
              "dtype: float64"
            ]
          },
          "metadata": {
            "tags": []
          },
          "execution_count": 8
        }
      ]
    },
    {
      "cell_type": "code",
      "metadata": {
        "id": "l09pOoC9BhMT"
      },
      "source": [
        "df.dropna(subset=['Cena'], inplace=True)"
      ],
      "execution_count": 9,
      "outputs": []
    },
    {
      "cell_type": "code",
      "metadata": {
        "colab": {
          "base_uri": "https://localhost:8080/"
        },
        "id": "62894C4t--Pz",
        "outputId": "822b0cd0-236c-4f10-f3f3-5980993cf2f2"
      },
      "source": [
        "df.shape  # wymiary ramki danych, 212149 rekordów, 32 kolumny"
      ],
      "execution_count": 10,
      "outputs": [
        {
          "output_type": "execute_result",
          "data": {
            "text/plain": [
              "(212149, 32)"
            ]
          },
          "metadata": {
            "tags": []
          },
          "execution_count": 10
        }
      ]
    },
    {
      "cell_type": "code",
      "metadata": {
        "colab": {
          "base_uri": "https://localhost:8080/",
          "height": 830
        },
        "id": "6MLbhdnR4N5F",
        "outputId": "d8cecef7-2473-4f8b-f20e-84e1d52cf499"
      },
      "source": [
        "df"
      ],
      "execution_count": 11,
      "outputs": [
        {
          "output_type": "execute_result",
          "data": {
            "text/html": [
              "<div>\n",
              "<style scoped>\n",
              "    .dataframe tbody tr th:only-of-type {\n",
              "        vertical-align: middle;\n",
              "    }\n",
              "\n",
              "    .dataframe tbody tr th {\n",
              "        vertical-align: top;\n",
              "    }\n",
              "\n",
              "    .dataframe thead th {\n",
              "        text-align: right;\n",
              "    }\n",
              "</style>\n",
              "<table border=\"1\" class=\"dataframe\">\n",
              "  <thead>\n",
              "    <tr style=\"text-align: right;\">\n",
              "      <th></th>\n",
              "      <th>ID</th>\n",
              "      <th>Marka</th>\n",
              "      <th>Model</th>\n",
              "      <th>Miasto</th>\n",
              "      <th>Wojewodztwo</th>\n",
              "      <th>Moc</th>\n",
              "      <th>Poj. sil</th>\n",
              "      <th>Cena</th>\n",
              "      <th>Waluta</th>\n",
              "      <th>Kraj poch.</th>\n",
              "      <th>Czy zabytek</th>\n",
              "      <th>Czy zarej. w Polsce</th>\n",
              "      <th>Czy bezwypadkowy</th>\n",
              "      <th>Czy Anglik</th>\n",
              "      <th>Serwisowany w ASO</th>\n",
              "      <th>Filtr DPF</th>\n",
              "      <th>Generacja</th>\n",
              "      <th>Rok prod.</th>\n",
              "      <th>Pierwsza rejestracja</th>\n",
              "      <th>Przebieg</th>\n",
              "      <th>Oferta od</th>\n",
              "      <th>Czy leasing</th>\n",
              "      <th>Rodzaj paliwa</th>\n",
              "      <th>Emisja CO2</th>\n",
              "      <th>Typ</th>\n",
              "      <th>Kolor</th>\n",
              "      <th>Stan</th>\n",
              "      <th>Czy pierwsz. właśc</th>\n",
              "      <th>Napęd</th>\n",
              "      <th>Skrzynia biegów</th>\n",
              "      <th>Data dodania</th>\n",
              "      <th>Link</th>\n",
              "    </tr>\n",
              "  </thead>\n",
              "  <tbody>\n",
              "    <tr>\n",
              "      <th>0</th>\n",
              "      <td>6084032404</td>\n",
              "      <td>abarth</td>\n",
              "      <td>124</td>\n",
              "      <td>Elbląg</td>\n",
              "      <td>Warmińsko-mazurskie</td>\n",
              "      <td>170.0</td>\n",
              "      <td>1368.0</td>\n",
              "      <td>104999.0</td>\n",
              "      <td>PLN</td>\n",
              "      <td>NaN</td>\n",
              "      <td>False</td>\n",
              "      <td>NaN</td>\n",
              "      <td>NaN</td>\n",
              "      <td>NaN</td>\n",
              "      <td>NaN</td>\n",
              "      <td>NaN</td>\n",
              "      <td>NaN</td>\n",
              "      <td>2018.0</td>\n",
              "      <td>NaN</td>\n",
              "      <td>20000.0</td>\n",
              "      <td>Osoby prywatnej</td>\n",
              "      <td>NaN</td>\n",
              "      <td>Benzyna</td>\n",
              "      <td>NaN</td>\n",
              "      <td>Kabriolet</td>\n",
              "      <td>Czarny</td>\n",
              "      <td>Używane</td>\n",
              "      <td>NaN</td>\n",
              "      <td>NaN</td>\n",
              "      <td>Manualna</td>\n",
              "      <td>2021-04-07 15:26:00</td>\n",
              "      <td>https://www.otomoto.pl/oferta/abarth-124-abart...</td>\n",
              "    </tr>\n",
              "    <tr>\n",
              "      <th>1</th>\n",
              "      <td>6083911812</td>\n",
              "      <td>abarth</td>\n",
              "      <td>500</td>\n",
              "      <td>Wągrowiec</td>\n",
              "      <td>Wielkopolskie</td>\n",
              "      <td>145.0</td>\n",
              "      <td>1368.0</td>\n",
              "      <td>69900.0</td>\n",
              "      <td>PLN</td>\n",
              "      <td>NaN</td>\n",
              "      <td>False</td>\n",
              "      <td>NaN</td>\n",
              "      <td>NaN</td>\n",
              "      <td>NaN</td>\n",
              "      <td>NaN</td>\n",
              "      <td>NaN</td>\n",
              "      <td>NaN</td>\n",
              "      <td>2018.0</td>\n",
              "      <td>NaN</td>\n",
              "      <td>19000.0</td>\n",
              "      <td>Firmy</td>\n",
              "      <td>NaN</td>\n",
              "      <td>Benzyna</td>\n",
              "      <td>139.0</td>\n",
              "      <td>Auta małe</td>\n",
              "      <td>Biały</td>\n",
              "      <td>Używane</td>\n",
              "      <td>NaN</td>\n",
              "      <td>Na przednie koła</td>\n",
              "      <td>Manualna</td>\n",
              "      <td>2021-04-12 15:08:00</td>\n",
              "      <td>https://www.otomoto.pl/oferta/abarth-500-abart...</td>\n",
              "    </tr>\n",
              "    <tr>\n",
              "      <th>2</th>\n",
              "      <td>6083978833</td>\n",
              "      <td>abarth</td>\n",
              "      <td>500</td>\n",
              "      <td>Warszawa</td>\n",
              "      <td>Mazowieckie</td>\n",
              "      <td>140.0</td>\n",
              "      <td>1368.0</td>\n",
              "      <td>48900.0</td>\n",
              "      <td>PLN</td>\n",
              "      <td>NaN</td>\n",
              "      <td>False</td>\n",
              "      <td>False</td>\n",
              "      <td>True</td>\n",
              "      <td>NaN</td>\n",
              "      <td>True</td>\n",
              "      <td>NaN</td>\n",
              "      <td>NaN</td>\n",
              "      <td>2011.0</td>\n",
              "      <td>2011-02-04 00:00:00</td>\n",
              "      <td>110000.0</td>\n",
              "      <td>Firmy</td>\n",
              "      <td>NaN</td>\n",
              "      <td>Benzyna</td>\n",
              "      <td>NaN</td>\n",
              "      <td>Auta małe</td>\n",
              "      <td>Szary</td>\n",
              "      <td>Używane</td>\n",
              "      <td>NaN</td>\n",
              "      <td>Na przednie koła</td>\n",
              "      <td>Automatyczna</td>\n",
              "      <td>2021-04-12 12:46:00</td>\n",
              "      <td>https://www.otomoto.pl/oferta/abarth-500-abart...</td>\n",
              "    </tr>\n",
              "    <tr>\n",
              "      <th>3</th>\n",
              "      <td>6080145032</td>\n",
              "      <td>abarth</td>\n",
              "      <td>500</td>\n",
              "      <td>Szamotuły</td>\n",
              "      <td>Wielkopolskie</td>\n",
              "      <td>180.0</td>\n",
              "      <td>1398.0</td>\n",
              "      <td>46900.0</td>\n",
              "      <td>PLN</td>\n",
              "      <td>NaN</td>\n",
              "      <td>False</td>\n",
              "      <td>False</td>\n",
              "      <td>NaN</td>\n",
              "      <td>NaN</td>\n",
              "      <td>NaN</td>\n",
              "      <td>NaN</td>\n",
              "      <td>NaN</td>\n",
              "      <td>2015.0</td>\n",
              "      <td>NaN</td>\n",
              "      <td>150659.0</td>\n",
              "      <td>Firmy</td>\n",
              "      <td>NaN</td>\n",
              "      <td>Benzyna</td>\n",
              "      <td>NaN</td>\n",
              "      <td>Auta małe</td>\n",
              "      <td>Czerwony</td>\n",
              "      <td>Używane</td>\n",
              "      <td>NaN</td>\n",
              "      <td>Na przednie koła</td>\n",
              "      <td>Automatyczna</td>\n",
              "      <td>2021-04-10 16:11:00</td>\n",
              "      <td>https://www.otomoto.pl/oferta/abarth-500-bardz...</td>\n",
              "    </tr>\n",
              "    <tr>\n",
              "      <th>4</th>\n",
              "      <td>6080419505</td>\n",
              "      <td>abarth</td>\n",
              "      <td>500</td>\n",
              "      <td>Gorlice</td>\n",
              "      <td>Małopolskie</td>\n",
              "      <td>185.0</td>\n",
              "      <td>1368.0</td>\n",
              "      <td>49900.0</td>\n",
              "      <td>PLN</td>\n",
              "      <td>Stany Zjednoczone</td>\n",
              "      <td>False</td>\n",
              "      <td>False</td>\n",
              "      <td>True</td>\n",
              "      <td>NaN</td>\n",
              "      <td>NaN</td>\n",
              "      <td>NaN</td>\n",
              "      <td>NaN</td>\n",
              "      <td>2015.0</td>\n",
              "      <td>NaN</td>\n",
              "      <td>22500.0</td>\n",
              "      <td>Osoby prywatnej</td>\n",
              "      <td>NaN</td>\n",
              "      <td>Benzyna</td>\n",
              "      <td>NaN</td>\n",
              "      <td>Auta małe</td>\n",
              "      <td>Żółty</td>\n",
              "      <td>Używane</td>\n",
              "      <td>NaN</td>\n",
              "      <td>Na przednie koła</td>\n",
              "      <td>Automatyczna</td>\n",
              "      <td>2021-04-09 10:33:00</td>\n",
              "      <td>https://www.otomoto.pl/oferta/abarth-500-abart...</td>\n",
              "    </tr>\n",
              "    <tr>\n",
              "      <th>...</th>\n",
              "      <td>...</td>\n",
              "      <td>...</td>\n",
              "      <td>...</td>\n",
              "      <td>...</td>\n",
              "      <td>...</td>\n",
              "      <td>...</td>\n",
              "      <td>...</td>\n",
              "      <td>...</td>\n",
              "      <td>...</td>\n",
              "      <td>...</td>\n",
              "      <td>...</td>\n",
              "      <td>...</td>\n",
              "      <td>...</td>\n",
              "      <td>...</td>\n",
              "      <td>...</td>\n",
              "      <td>...</td>\n",
              "      <td>...</td>\n",
              "      <td>...</td>\n",
              "      <td>...</td>\n",
              "      <td>...</td>\n",
              "      <td>...</td>\n",
              "      <td>...</td>\n",
              "      <td>...</td>\n",
              "      <td>...</td>\n",
              "      <td>...</td>\n",
              "      <td>...</td>\n",
              "      <td>...</td>\n",
              "      <td>...</td>\n",
              "      <td>...</td>\n",
              "      <td>...</td>\n",
              "      <td>...</td>\n",
              "      <td>...</td>\n",
              "    </tr>\n",
              "    <tr>\n",
              "      <th>212902</th>\n",
              "      <td>6084195363</td>\n",
              "      <td>zuk</td>\n",
              "      <td>other</td>\n",
              "      <td>Włocławek</td>\n",
              "      <td>Kujawsko-pomorskie</td>\n",
              "      <td>70.0</td>\n",
              "      <td>2120.0</td>\n",
              "      <td>10900.0</td>\n",
              "      <td>PLN</td>\n",
              "      <td>Polska</td>\n",
              "      <td>False</td>\n",
              "      <td>NaN</td>\n",
              "      <td>True</td>\n",
              "      <td>NaN</td>\n",
              "      <td>NaN</td>\n",
              "      <td>NaN</td>\n",
              "      <td>NaN</td>\n",
              "      <td>1970.0</td>\n",
              "      <td>NaN</td>\n",
              "      <td>63518.0</td>\n",
              "      <td>Osoby prywatnej</td>\n",
              "      <td>NaN</td>\n",
              "      <td>Benzyna</td>\n",
              "      <td>NaN</td>\n",
              "      <td>Kombi</td>\n",
              "      <td>Inny kolor</td>\n",
              "      <td>Używane</td>\n",
              "      <td>NaN</td>\n",
              "      <td>Na tylne koła</td>\n",
              "      <td>Manualna</td>\n",
              "      <td>2021-04-12 14:43:00</td>\n",
              "      <td>https://www.otomoto.pl/oferta/zuk-zuk-a15-smut...</td>\n",
              "    </tr>\n",
              "    <tr>\n",
              "      <th>212903</th>\n",
              "      <td>6084139185</td>\n",
              "      <td>zuk</td>\n",
              "      <td>other</td>\n",
              "      <td>Pobierowo</td>\n",
              "      <td>Zachodniopomorskie</td>\n",
              "      <td>61.0</td>\n",
              "      <td>2417.0</td>\n",
              "      <td>2500.0</td>\n",
              "      <td>PLN</td>\n",
              "      <td>NaN</td>\n",
              "      <td>False</td>\n",
              "      <td>NaN</td>\n",
              "      <td>NaN</td>\n",
              "      <td>NaN</td>\n",
              "      <td>NaN</td>\n",
              "      <td>NaN</td>\n",
              "      <td>NaN</td>\n",
              "      <td>1991.0</td>\n",
              "      <td>1991-09-18 00:00:00</td>\n",
              "      <td>60000.0</td>\n",
              "      <td>Osoby prywatnej</td>\n",
              "      <td>NaN</td>\n",
              "      <td>Diesel</td>\n",
              "      <td>NaN</td>\n",
              "      <td>SUV</td>\n",
              "      <td>Zielony</td>\n",
              "      <td>Używane</td>\n",
              "      <td>NaN</td>\n",
              "      <td>NaN</td>\n",
              "      <td>Manualna</td>\n",
              "      <td>2021-04-12 10:56:00</td>\n",
              "      <td>https://www.otomoto.pl/oferta/zuk-sprzedam-zuk...</td>\n",
              "    </tr>\n",
              "    <tr>\n",
              "      <th>212904</th>\n",
              "      <td>6082968006</td>\n",
              "      <td>zuk</td>\n",
              "      <td>other</td>\n",
              "      <td>Złotów</td>\n",
              "      <td>Wielkopolskie</td>\n",
              "      <td>60.0</td>\n",
              "      <td>2120.0</td>\n",
              "      <td>6900.0</td>\n",
              "      <td>PLN</td>\n",
              "      <td>NaN</td>\n",
              "      <td>False</td>\n",
              "      <td>NaN</td>\n",
              "      <td>NaN</td>\n",
              "      <td>NaN</td>\n",
              "      <td>NaN</td>\n",
              "      <td>NaN</td>\n",
              "      <td>NaN</td>\n",
              "      <td>1977.0</td>\n",
              "      <td>1977-06-11 00:00:00</td>\n",
              "      <td>11880.0</td>\n",
              "      <td>Osoby prywatnej</td>\n",
              "      <td>NaN</td>\n",
              "      <td>Benzyna</td>\n",
              "      <td>NaN</td>\n",
              "      <td>SUV</td>\n",
              "      <td>Czerwony</td>\n",
              "      <td>Używane</td>\n",
              "      <td>NaN</td>\n",
              "      <td>NaN</td>\n",
              "      <td>Manualna</td>\n",
              "      <td>2021-04-08 17:32:00</td>\n",
              "      <td>https://www.otomoto.pl/oferta/zuk-ID6DFwRc.htm...</td>\n",
              "    </tr>\n",
              "    <tr>\n",
              "      <th>212905</th>\n",
              "      <td>6075025974</td>\n",
              "      <td>zuk</td>\n",
              "      <td>other</td>\n",
              "      <td>Koszalin</td>\n",
              "      <td>Zachodniopomorskie</td>\n",
              "      <td>70.0</td>\n",
              "      <td>2120.0</td>\n",
              "      <td>11900.0</td>\n",
              "      <td>PLN</td>\n",
              "      <td>NaN</td>\n",
              "      <td>False</td>\n",
              "      <td>NaN</td>\n",
              "      <td>NaN</td>\n",
              "      <td>NaN</td>\n",
              "      <td>NaN</td>\n",
              "      <td>NaN</td>\n",
              "      <td>NaN</td>\n",
              "      <td>1985.0</td>\n",
              "      <td>NaN</td>\n",
              "      <td>20056.0</td>\n",
              "      <td>Firmy</td>\n",
              "      <td>NaN</td>\n",
              "      <td>Benzyna</td>\n",
              "      <td>NaN</td>\n",
              "      <td>Minivan</td>\n",
              "      <td>Czerwony</td>\n",
              "      <td>Używane</td>\n",
              "      <td>NaN</td>\n",
              "      <td>NaN</td>\n",
              "      <td>Manualna</td>\n",
              "      <td>2021-04-05 11:57:00</td>\n",
              "      <td>https://www.otomoto.pl/oferta/zuk-straz-pozarn...</td>\n",
              "    </tr>\n",
              "    <tr>\n",
              "      <th>212906</th>\n",
              "      <td>6073542422</td>\n",
              "      <td>zuk</td>\n",
              "      <td>other</td>\n",
              "      <td>Ostrowiec Świętokrzyski</td>\n",
              "      <td>Świętokrzyskie</td>\n",
              "      <td>1.0</td>\n",
              "      <td>2120.0</td>\n",
              "      <td>24600.0</td>\n",
              "      <td>PLN</td>\n",
              "      <td>NaN</td>\n",
              "      <td>False</td>\n",
              "      <td>False</td>\n",
              "      <td>NaN</td>\n",
              "      <td>NaN</td>\n",
              "      <td>NaN</td>\n",
              "      <td>NaN</td>\n",
              "      <td>NaN</td>\n",
              "      <td>1997.0</td>\n",
              "      <td>NaN</td>\n",
              "      <td>46600.0</td>\n",
              "      <td>Osoby prywatnej</td>\n",
              "      <td>NaN</td>\n",
              "      <td>Benzyna+LPG</td>\n",
              "      <td>NaN</td>\n",
              "      <td>Minivan</td>\n",
              "      <td>Brązowy</td>\n",
              "      <td>Używane</td>\n",
              "      <td>NaN</td>\n",
              "      <td>Na tylne koła</td>\n",
              "      <td>Manualna</td>\n",
              "      <td>2021-04-04 07:34:00</td>\n",
              "      <td>https://www.otomoto.pl/oferta/zuk-zuk-a-06-199...</td>\n",
              "    </tr>\n",
              "  </tbody>\n",
              "</table>\n",
              "<p>212149 rows × 32 columns</p>\n",
              "</div>"
            ],
            "text/plain": [
              "                ID  ...                                               Link\n",
              "0       6084032404  ...  https://www.otomoto.pl/oferta/abarth-124-abart...\n",
              "1       6083911812  ...  https://www.otomoto.pl/oferta/abarth-500-abart...\n",
              "2       6083978833  ...  https://www.otomoto.pl/oferta/abarth-500-abart...\n",
              "3       6080145032  ...  https://www.otomoto.pl/oferta/abarth-500-bardz...\n",
              "4       6080419505  ...  https://www.otomoto.pl/oferta/abarth-500-abart...\n",
              "...            ...  ...                                                ...\n",
              "212902  6084195363  ...  https://www.otomoto.pl/oferta/zuk-zuk-a15-smut...\n",
              "212903  6084139185  ...  https://www.otomoto.pl/oferta/zuk-sprzedam-zuk...\n",
              "212904  6082968006  ...  https://www.otomoto.pl/oferta/zuk-ID6DFwRc.htm...\n",
              "212905  6075025974  ...  https://www.otomoto.pl/oferta/zuk-straz-pozarn...\n",
              "212906  6073542422  ...  https://www.otomoto.pl/oferta/zuk-zuk-a-06-199...\n",
              "\n",
              "[212149 rows x 32 columns]"
            ]
          },
          "metadata": {
            "tags": []
          },
          "execution_count": 11
        }
      ]
    },
    {
      "cell_type": "code",
      "metadata": {
        "colab": {
          "base_uri": "https://localhost:8080/"
        },
        "id": "GFl7v2VR6R-V",
        "outputId": "5b9d5211-9e90-4829-d0f9-49f4e2640552"
      },
      "source": [
        "df.isna().sum()  # ile wartości jest NULL dla każdej kolumny, dla ID jest 0 bo wcześniej usunęliśmy wartości null"
      ],
      "execution_count": 12,
      "outputs": [
        {
          "output_type": "execute_result",
          "data": {
            "text/plain": [
              "ID                           0\n",
              "Marka                        0\n",
              "Model                        0\n",
              "Miasto                       0\n",
              "Wojewodztwo                  0\n",
              "Moc                        921\n",
              "Poj. sil                  2023\n",
              "Cena                         0\n",
              "Waluta                       0\n",
              "Kraj poch.               89946\n",
              "Czy zabytek                  0\n",
              "Czy zarej. w Polsce     109738\n",
              "Czy bezwypadkowy         90925\n",
              "Czy Anglik              211682\n",
              "Serwisowany w ASO       118573\n",
              "Filtr DPF               197139\n",
              "Generacja                61586\n",
              "Rok prod.                    0\n",
              "Pierwsza rejestracja    126682\n",
              "Przebieg                   939\n",
              "Oferta od                    0\n",
              "Czy leasing             178888\n",
              "Rodzaj paliwa                0\n",
              "Emisja CO2              118231\n",
              "Typ                          0\n",
              "Kolor                        0\n",
              "Stan                         0\n",
              "Czy pierwsz. właśc      144024\n",
              "Napęd                    15196\n",
              "Skrzynia biegów            754\n",
              "Data dodania                 0\n",
              "Link                         0\n",
              "dtype: int64"
            ]
          },
          "metadata": {
            "tags": []
          },
          "execution_count": 12
        }
      ]
    },
    {
      "cell_type": "markdown",
      "metadata": {
        "id": "gCPmLhfz7utK"
      },
      "source": [
        "#### Wykres ilości aut w zależności od marki"
      ]
    },
    {
      "cell_type": "code",
      "metadata": {
        "colab": {
          "base_uri": "https://localhost:8080/",
          "height": 1000
        },
        "id": "2HjCRFeG4O4g",
        "outputId": "026d8f8a-7ff9-474b-8ced-e3e93b82daae"
      },
      "source": [
        "plot1 = df['Marka'].value_counts(ascending=True).plot(kind='barh', figsize=(12,26), fontsize=15, title='Liczba oferowanych aut według marek')\n",
        "plot1.set_xlabel(\"Liczba aut\", fontsize=18)\n",
        "plot1.title.set_size(22)"
      ],
      "execution_count": 13,
      "outputs": [
        {
          "output_type": "display_data",
          "data": {
            "image/png": "[encoded data removed]",
            "text/plain": [
              "<Figure size 864x1872 with 1 Axes>"
            ]
          },
          "metadata": {
            "tags": [],
            "needs_background": "light"
          }
        }
      ]
    },
    {
      "cell_type": "markdown",
      "metadata": {
        "id": "f-dYu65KYbqO"
      },
      "source": [
        "Procentowy udział marek w ogłoszeniach (TOP10)."
      ]
    },
    {
      "cell_type": "code",
      "metadata": {
        "colab": {
          "base_uri": "https://localhost:8080/"
        },
        "id": "00ecxveOYkbi",
        "outputId": "e468b1e8-442a-4172-c861-2cd4022dc818"
      },
      "source": [
        "df['Marka'].value_counts(normalize=True).nlargest(10) * 100  # tutaj jeszcze do poprawy żeby ładnie były wyświetlone procenty"
      ],
      "execution_count": 14,
      "outputs": [
        {
          "output_type": "execute_result",
          "data": {
            "text/plain": [
              "volkswagen       8.197069\n",
              "bmw              7.961857\n",
              "opel             7.823747\n",
              "audi             7.661125\n",
              "ford             7.639442\n",
              "mercedes-benz    5.502265\n",
              "renault          5.181735\n",
              "skoda            4.857435\n",
              "toyota           4.796157\n",
              "peugeot          4.271055\n",
              "Name: Marka, dtype: float64"
            ]
          },
          "metadata": {
            "tags": []
          },
          "execution_count": 14
        }
      ]
    },
    {
      "cell_type": "markdown",
      "metadata": {
        "id": "Ku8ho4fwvl0G"
      },
      "source": [
        "Ilość ogłoszeń według przedziału cenowego"
      ]
    },
    {
      "cell_type": "code",
      "metadata": {
        "colab": {
          "base_uri": "https://localhost:8080/"
        },
        "id": "QiIPbJdSv7GK",
        "outputId": "c211a4d2-2ef8-47e2-b23d-b842a76a34bd"
      },
      "source": [
        "pd.cut(df['Cena'], bins=[0, 5000, 10000, 15000, 30000, 50000, 100000], labels=['0 - 5000', '5000 - 10000', '10000 - 15000', '15000 - 30000', '30000 - 50000', '50000 - 100000'], ordered=True).value_counts(normalize=True, sort=False) * 100"
      ],
      "execution_count": 15,
      "outputs": [
        {
          "output_type": "execute_result",
          "data": {
            "text/plain": [
              "0 - 5000           3.327844\n",
              "5000 - 10000       9.822798\n",
              "10000 - 15000     10.736257\n",
              "15000 - 30000     29.492730\n",
              "30000 - 50000     21.070683\n",
              "50000 - 100000    25.549688\n",
              "Name: Cena, dtype: float64"
            ]
          },
          "metadata": {
            "tags": []
          },
          "execution_count": 15
        }
      ]
    },
    {
      "cell_type": "markdown",
      "metadata": {
        "id": "LmhTFdDJG14x"
      },
      "source": [
        "Procent ogłoszeń w zależności od rodzaju napędu"
      ]
    },
    {
      "cell_type": "code",
      "metadata": {
        "colab": {
          "base_uri": "https://localhost:8080/"
        },
        "id": "NQnnCIx58ueR",
        "outputId": "18287612-d46c-41f4-9b70-20ed2d5e8fb5"
      },
      "source": [
        "df['Rodzaj paliwa'].value_counts(normalize=True) * 100"
      ],
      "execution_count": 18,
      "outputs": [
        {
          "output_type": "execute_result",
          "data": {
            "text/plain": [
              "Benzyna        48.461223\n",
              "Diesel         43.820145\n",
              "Benzyna+LPG     4.293680\n",
              "Hybryda         2.757967\n",
              "Elektryczny     0.636345\n",
              "Benzyna+CNG     0.029696\n",
              "Wodór           0.000471\n",
              "Etanol          0.000471\n",
              "Name: Rodzaj paliwa, dtype: float64"
            ]
          },
          "metadata": {
            "tags": []
          },
          "execution_count": 18
        }
      ]
    },
    {
      "cell_type": "markdown",
      "metadata": {
        "id": "xCuPHKtKHEln"
      },
      "source": [
        "TOP 5 najdroższych ofert sprzedaży samochodów"
      ]
    },
    {
      "cell_type": "code",
      "metadata": {
        "id": "PU3MZQbQEto4",
        "colab": {
          "base_uri": "https://localhost:8080/",
          "height": 529
        },
        "outputId": "06088c0b-a66f-495a-baeb-3de1b4809866"
      },
      "source": [
        "df.nlargest(5, 'Cena').sort_values('Cena').loc['Cena']"
      ],
      "execution_count": 19,
      "outputs": [
        {
          "output_type": "error",
          "ename": "KeyError",
          "evalue": "ignored",
          "traceback": [
            "\u001b[0;31m---------------------------------------------------------------------------\u001b[0m",
            "\u001b[0;31mKeyError\u001b[0m                                  Traceback (most recent call last)",
            "\u001b[0;32m/usr/local/lib/python3.7/dist-packages/pandas/core/indexes/base.py\u001b[0m in \u001b[0;36mget_loc\u001b[0;34m(self, key, method, tolerance)\u001b[0m\n\u001b[1;32m   2897\u001b[0m             \u001b[0;32mtry\u001b[0m\u001b[0;34m:\u001b[0m\u001b[0;34m\u001b[0m\u001b[0;34m\u001b[0m\u001b[0m\n\u001b[0;32m-> 2898\u001b[0;31m                 \u001b[0;32mreturn\u001b[0m \u001b[0mself\u001b[0m\u001b[0;34m.\u001b[0m\u001b[0m_engine\u001b[0m\u001b[0;34m.\u001b[0m\u001b[0mget_loc\u001b[0m\u001b[0;34m(\u001b[0m\u001b[0mcasted_key\u001b[0m\u001b[0;34m)\u001b[0m\u001b[0;34m\u001b[0m\u001b[0;34m\u001b[0m\u001b[0m\n\u001b[0m\u001b[1;32m   2899\u001b[0m             \u001b[0;32mexcept\u001b[0m \u001b[0mKeyError\u001b[0m \u001b[0;32mas\u001b[0m \u001b[0merr\u001b[0m\u001b[0;34m:\u001b[0m\u001b[0;34m\u001b[0m\u001b[0;34m\u001b[0m\u001b[0m\n",
            "\u001b[0;32mpandas/_libs/index.pyx\u001b[0m in \u001b[0;36mpandas._libs.index.IndexEngine.get_loc\u001b[0;34m()\u001b[0m\n",
            "\u001b[0;32mpandas/_libs/index.pyx\u001b[0m in \u001b[0;36mpandas._libs.index.IndexEngine.get_loc\u001b[0;34m()\u001b[0m\n",
            "\u001b[0;32mpandas/_libs/index_class_helper.pxi\u001b[0m in \u001b[0;36mpandas._libs.index.Int64Engine._check_type\u001b[0;34m()\u001b[0m\n",
            "\u001b[0;31mKeyError\u001b[0m: 'Cena'",
            "\nThe above exception was the direct cause of the following exception:\n",
            "\u001b[0;31mKeyError\u001b[0m                                  Traceback (most recent call last)",
            "\u001b[0;32m<ipython-input-19-d1b60b5dbca3>\u001b[0m in \u001b[0;36m<module>\u001b[0;34m()\u001b[0m\n\u001b[0;32m----> 1\u001b[0;31m \u001b[0mdf\u001b[0m\u001b[0;34m.\u001b[0m\u001b[0mnlargest\u001b[0m\u001b[0;34m(\u001b[0m\u001b[0;36m5\u001b[0m\u001b[0;34m,\u001b[0m \u001b[0;34m'Cena'\u001b[0m\u001b[0;34m)\u001b[0m\u001b[0;34m.\u001b[0m\u001b[0msort_values\u001b[0m\u001b[0;34m(\u001b[0m\u001b[0;34m'Cena'\u001b[0m\u001b[0;34m)\u001b[0m\u001b[0;34m.\u001b[0m\u001b[0mloc\u001b[0m\u001b[0;34m[\u001b[0m\u001b[0;34m'Cena'\u001b[0m\u001b[0;34m]\u001b[0m\u001b[0;34m\u001b[0m\u001b[0;34m\u001b[0m\u001b[0m\n\u001b[0m",
            "\u001b[0;32m/usr/local/lib/python3.7/dist-packages/pandas/core/indexing.py\u001b[0m in \u001b[0;36m__getitem__\u001b[0;34m(self, key)\u001b[0m\n\u001b[1;32m    877\u001b[0m \u001b[0;34m\u001b[0m\u001b[0m\n\u001b[1;32m    878\u001b[0m             \u001b[0mmaybe_callable\u001b[0m \u001b[0;34m=\u001b[0m \u001b[0mcom\u001b[0m\u001b[0;34m.\u001b[0m\u001b[0mapply_if_callable\u001b[0m\u001b[0;34m(\u001b[0m\u001b[0mkey\u001b[0m\u001b[0;34m,\u001b[0m \u001b[0mself\u001b[0m\u001b[0;34m.\u001b[0m\u001b[0mobj\u001b[0m\u001b[0;34m)\u001b[0m\u001b[0;34m\u001b[0m\u001b[0;34m\u001b[0m\u001b[0m\n\u001b[0;32m--> 879\u001b[0;31m             \u001b[0;32mreturn\u001b[0m \u001b[0mself\u001b[0m\u001b[0;34m.\u001b[0m\u001b[0m_getitem_axis\u001b[0m\u001b[0;34m(\u001b[0m\u001b[0mmaybe_callable\u001b[0m\u001b[0;34m,\u001b[0m \u001b[0maxis\u001b[0m\u001b[0;34m=\u001b[0m\u001b[0maxis\u001b[0m\u001b[0;34m)\u001b[0m\u001b[0;34m\u001b[0m\u001b[0;34m\u001b[0m\u001b[0m\n\u001b[0m\u001b[1;32m    880\u001b[0m \u001b[0;34m\u001b[0m\u001b[0m\n\u001b[1;32m    881\u001b[0m     \u001b[0;32mdef\u001b[0m \u001b[0m_is_scalar_access\u001b[0m\u001b[0;34m(\u001b[0m\u001b[0mself\u001b[0m\u001b[0;34m,\u001b[0m \u001b[0mkey\u001b[0m\u001b[0;34m:\u001b[0m \u001b[0mTuple\u001b[0m\u001b[0;34m)\u001b[0m\u001b[0;34m:\u001b[0m\u001b[0;34m\u001b[0m\u001b[0;34m\u001b[0m\u001b[0m\n",
            "\u001b[0;32m/usr/local/lib/python3.7/dist-packages/pandas/core/indexing.py\u001b[0m in \u001b[0;36m_getitem_axis\u001b[0;34m(self, key, axis)\u001b[0m\n\u001b[1;32m   1108\u001b[0m         \u001b[0;31m# fall thru to straight lookup\u001b[0m\u001b[0;34m\u001b[0m\u001b[0;34m\u001b[0m\u001b[0;34m\u001b[0m\u001b[0m\n\u001b[1;32m   1109\u001b[0m         \u001b[0mself\u001b[0m\u001b[0;34m.\u001b[0m\u001b[0m_validate_key\u001b[0m\u001b[0;34m(\u001b[0m\u001b[0mkey\u001b[0m\u001b[0;34m,\u001b[0m \u001b[0maxis\u001b[0m\u001b[0;34m)\u001b[0m\u001b[0;34m\u001b[0m\u001b[0;34m\u001b[0m\u001b[0m\n\u001b[0;32m-> 1110\u001b[0;31m         \u001b[0;32mreturn\u001b[0m \u001b[0mself\u001b[0m\u001b[0;34m.\u001b[0m\u001b[0m_get_label\u001b[0m\u001b[0;34m(\u001b[0m\u001b[0mkey\u001b[0m\u001b[0;34m,\u001b[0m \u001b[0maxis\u001b[0m\u001b[0;34m=\u001b[0m\u001b[0maxis\u001b[0m\u001b[0;34m)\u001b[0m\u001b[0;34m\u001b[0m\u001b[0;34m\u001b[0m\u001b[0m\n\u001b[0m\u001b[1;32m   1111\u001b[0m \u001b[0;34m\u001b[0m\u001b[0m\n\u001b[1;32m   1112\u001b[0m     \u001b[0;32mdef\u001b[0m \u001b[0m_get_slice_axis\u001b[0m\u001b[0;34m(\u001b[0m\u001b[0mself\u001b[0m\u001b[0;34m,\u001b[0m \u001b[0mslice_obj\u001b[0m\u001b[0;34m:\u001b[0m \u001b[0mslice\u001b[0m\u001b[0;34m,\u001b[0m \u001b[0maxis\u001b[0m\u001b[0;34m:\u001b[0m \u001b[0mint\u001b[0m\u001b[0;34m)\u001b[0m\u001b[0;34m:\u001b[0m\u001b[0;34m\u001b[0m\u001b[0;34m\u001b[0m\u001b[0m\n",
            "\u001b[0;32m/usr/local/lib/python3.7/dist-packages/pandas/core/indexing.py\u001b[0m in \u001b[0;36m_get_label\u001b[0;34m(self, label, axis)\u001b[0m\n\u001b[1;32m   1057\u001b[0m     \u001b[0;32mdef\u001b[0m \u001b[0m_get_label\u001b[0m\u001b[0;34m(\u001b[0m\u001b[0mself\u001b[0m\u001b[0;34m,\u001b[0m \u001b[0mlabel\u001b[0m\u001b[0;34m,\u001b[0m \u001b[0maxis\u001b[0m\u001b[0;34m:\u001b[0m \u001b[0mint\u001b[0m\u001b[0;34m)\u001b[0m\u001b[0;34m:\u001b[0m\u001b[0;34m\u001b[0m\u001b[0;34m\u001b[0m\u001b[0m\n\u001b[1;32m   1058\u001b[0m         \u001b[0;31m# GH#5667 this will fail if the label is not present in the axis.\u001b[0m\u001b[0;34m\u001b[0m\u001b[0;34m\u001b[0m\u001b[0;34m\u001b[0m\u001b[0m\n\u001b[0;32m-> 1059\u001b[0;31m         \u001b[0;32mreturn\u001b[0m \u001b[0mself\u001b[0m\u001b[0;34m.\u001b[0m\u001b[0mobj\u001b[0m\u001b[0;34m.\u001b[0m\u001b[0mxs\u001b[0m\u001b[0;34m(\u001b[0m\u001b[0mlabel\u001b[0m\u001b[0;34m,\u001b[0m \u001b[0maxis\u001b[0m\u001b[0;34m=\u001b[0m\u001b[0maxis\u001b[0m\u001b[0;34m)\u001b[0m\u001b[0;34m\u001b[0m\u001b[0;34m\u001b[0m\u001b[0m\n\u001b[0m\u001b[1;32m   1060\u001b[0m \u001b[0;34m\u001b[0m\u001b[0m\n\u001b[1;32m   1061\u001b[0m     \u001b[0;32mdef\u001b[0m \u001b[0m_handle_lowerdim_multi_index_axis0\u001b[0m\u001b[0;34m(\u001b[0m\u001b[0mself\u001b[0m\u001b[0;34m,\u001b[0m \u001b[0mtup\u001b[0m\u001b[0;34m:\u001b[0m \u001b[0mTuple\u001b[0m\u001b[0;34m)\u001b[0m\u001b[0;34m:\u001b[0m\u001b[0;34m\u001b[0m\u001b[0;34m\u001b[0m\u001b[0m\n",
            "\u001b[0;32m/usr/local/lib/python3.7/dist-packages/pandas/core/generic.py\u001b[0m in \u001b[0;36mxs\u001b[0;34m(self, key, axis, level, drop_level)\u001b[0m\n\u001b[1;32m   3491\u001b[0m             \u001b[0mloc\u001b[0m\u001b[0;34m,\u001b[0m \u001b[0mnew_index\u001b[0m \u001b[0;34m=\u001b[0m \u001b[0mself\u001b[0m\u001b[0;34m.\u001b[0m\u001b[0mindex\u001b[0m\u001b[0;34m.\u001b[0m\u001b[0mget_loc_level\u001b[0m\u001b[0;34m(\u001b[0m\u001b[0mkey\u001b[0m\u001b[0;34m,\u001b[0m \u001b[0mdrop_level\u001b[0m\u001b[0;34m=\u001b[0m\u001b[0mdrop_level\u001b[0m\u001b[0;34m)\u001b[0m\u001b[0;34m\u001b[0m\u001b[0;34m\u001b[0m\u001b[0m\n\u001b[1;32m   3492\u001b[0m         \u001b[0;32melse\u001b[0m\u001b[0;34m:\u001b[0m\u001b[0;34m\u001b[0m\u001b[0;34m\u001b[0m\u001b[0m\n\u001b[0;32m-> 3493\u001b[0;31m             \u001b[0mloc\u001b[0m \u001b[0;34m=\u001b[0m \u001b[0mself\u001b[0m\u001b[0;34m.\u001b[0m\u001b[0mindex\u001b[0m\u001b[0;34m.\u001b[0m\u001b[0mget_loc\u001b[0m\u001b[0;34m(\u001b[0m\u001b[0mkey\u001b[0m\u001b[0;34m)\u001b[0m\u001b[0;34m\u001b[0m\u001b[0;34m\u001b[0m\u001b[0m\n\u001b[0m\u001b[1;32m   3494\u001b[0m \u001b[0;34m\u001b[0m\u001b[0m\n\u001b[1;32m   3495\u001b[0m             \u001b[0;32mif\u001b[0m \u001b[0misinstance\u001b[0m\u001b[0;34m(\u001b[0m\u001b[0mloc\u001b[0m\u001b[0;34m,\u001b[0m \u001b[0mnp\u001b[0m\u001b[0;34m.\u001b[0m\u001b[0mndarray\u001b[0m\u001b[0;34m)\u001b[0m\u001b[0;34m:\u001b[0m\u001b[0;34m\u001b[0m\u001b[0;34m\u001b[0m\u001b[0m\n",
            "\u001b[0;32m/usr/local/lib/python3.7/dist-packages/pandas/core/indexes/base.py\u001b[0m in \u001b[0;36mget_loc\u001b[0;34m(self, key, method, tolerance)\u001b[0m\n\u001b[1;32m   2898\u001b[0m                 \u001b[0;32mreturn\u001b[0m \u001b[0mself\u001b[0m\u001b[0;34m.\u001b[0m\u001b[0m_engine\u001b[0m\u001b[0;34m.\u001b[0m\u001b[0mget_loc\u001b[0m\u001b[0;34m(\u001b[0m\u001b[0mcasted_key\u001b[0m\u001b[0;34m)\u001b[0m\u001b[0;34m\u001b[0m\u001b[0;34m\u001b[0m\u001b[0m\n\u001b[1;32m   2899\u001b[0m             \u001b[0;32mexcept\u001b[0m \u001b[0mKeyError\u001b[0m \u001b[0;32mas\u001b[0m \u001b[0merr\u001b[0m\u001b[0;34m:\u001b[0m\u001b[0;34m\u001b[0m\u001b[0;34m\u001b[0m\u001b[0m\n\u001b[0;32m-> 2900\u001b[0;31m                 \u001b[0;32mraise\u001b[0m \u001b[0mKeyError\u001b[0m\u001b[0;34m(\u001b[0m\u001b[0mkey\u001b[0m\u001b[0;34m)\u001b[0m \u001b[0;32mfrom\u001b[0m \u001b[0merr\u001b[0m\u001b[0;34m\u001b[0m\u001b[0;34m\u001b[0m\u001b[0m\n\u001b[0m\u001b[1;32m   2901\u001b[0m \u001b[0;34m\u001b[0m\u001b[0m\n\u001b[1;32m   2902\u001b[0m         \u001b[0;32mif\u001b[0m \u001b[0mtolerance\u001b[0m \u001b[0;32mis\u001b[0m \u001b[0;32mnot\u001b[0m \u001b[0;32mNone\u001b[0m\u001b[0;34m:\u001b[0m\u001b[0;34m\u001b[0m\u001b[0;34m\u001b[0m\u001b[0m\n",
            "\u001b[0;31mKeyError\u001b[0m: 'Cena'"
          ]
        }
      ]
    },
    {
      "cell_type": "code",
      "metadata": {
        "id": "LXkH6H88bzmR",
        "outputId": "c4c9763a-79ae-43de-d359-a091a4b78a8d",
        "colab": {
          "base_uri": "https://localhost:8080/",
          "height": 445
        }
      },
      "source": [
        "df.nlargest(5, 'Cena').sort_values('Cena')"
      ],
      "execution_count": 27,
      "outputs": [
        {
          "output_type": "execute_result",
          "data": {
            "text/html": [
              "<div>\n",
              "<style scoped>\n",
              "    .dataframe tbody tr th:only-of-type {\n",
              "        vertical-align: middle;\n",
              "    }\n",
              "\n",
              "    .dataframe tbody tr th {\n",
              "        vertical-align: top;\n",
              "    }\n",
              "\n",
              "    .dataframe thead th {\n",
              "        text-align: right;\n",
              "    }\n",
              "</style>\n",
              "<table border=\"1\" class=\"dataframe\">\n",
              "  <thead>\n",
              "    <tr style=\"text-align: right;\">\n",
              "      <th></th>\n",
              "      <th>ID</th>\n",
              "      <th>Marka</th>\n",
              "      <th>Model</th>\n",
              "      <th>Miasto</th>\n",
              "      <th>Wojewodztwo</th>\n",
              "      <th>Moc</th>\n",
              "      <th>Poj. sil</th>\n",
              "      <th>Cena</th>\n",
              "      <th>Waluta</th>\n",
              "      <th>Kraj poch.</th>\n",
              "      <th>Czy zabytek</th>\n",
              "      <th>Czy zarej. w Polsce</th>\n",
              "      <th>Czy bezwypadkowy</th>\n",
              "      <th>Czy Anglik</th>\n",
              "      <th>Serwisowany w ASO</th>\n",
              "      <th>Filtr DPF</th>\n",
              "      <th>Generacja</th>\n",
              "      <th>Rok prod.</th>\n",
              "      <th>Pierwsza rejestracja</th>\n",
              "      <th>Przebieg</th>\n",
              "      <th>Oferta od</th>\n",
              "      <th>Czy leasing</th>\n",
              "      <th>Rodzaj paliwa</th>\n",
              "      <th>Emisja CO2</th>\n",
              "      <th>Typ</th>\n",
              "      <th>Kolor</th>\n",
              "      <th>Stan</th>\n",
              "      <th>Czy pierwsz. właśc</th>\n",
              "      <th>Napęd</th>\n",
              "      <th>Skrzynia biegów</th>\n",
              "      <th>Data dodania</th>\n",
              "      <th>Link</th>\n",
              "    </tr>\n",
              "  </thead>\n",
              "  <tbody>\n",
              "    <tr>\n",
              "      <th>89842</th>\n",
              "      <td>6053669624</td>\n",
              "      <td>lamborghini</td>\n",
              "      <td>aventador</td>\n",
              "      <td>Straszyn</td>\n",
              "      <td>Pomorskie</td>\n",
              "      <td>750.0</td>\n",
              "      <td>6498.0</td>\n",
              "      <td>2300000.0</td>\n",
              "      <td>PLN</td>\n",
              "      <td>Polska</td>\n",
              "      <td>False</td>\n",
              "      <td>False</td>\n",
              "      <td>True</td>\n",
              "      <td>NaN</td>\n",
              "      <td>True</td>\n",
              "      <td>NaN</td>\n",
              "      <td>NaN</td>\n",
              "      <td>2016.0</td>\n",
              "      <td>NaN</td>\n",
              "      <td>5500.0</td>\n",
              "      <td>Firmy</td>\n",
              "      <td>NaN</td>\n",
              "      <td>Benzyna</td>\n",
              "      <td>NaN</td>\n",
              "      <td>Coupe</td>\n",
              "      <td>Czarny</td>\n",
              "      <td>Używane</td>\n",
              "      <td>True</td>\n",
              "      <td>4x4 (stały)</td>\n",
              "      <td>Automatyczna</td>\n",
              "      <td>2021-04-09 07:30:00</td>\n",
              "      <td>https://www.otomoto.pl/oferta/lamborghini-aven...</td>\n",
              "    </tr>\n",
              "    <tr>\n",
              "      <th>159394</th>\n",
              "      <td>6081276586</td>\n",
              "      <td>rolls-royce</td>\n",
              "      <td>cullinan</td>\n",
              "      <td>Warszawa</td>\n",
              "      <td>Mazowieckie</td>\n",
              "      <td>571.0</td>\n",
              "      <td>6749.0</td>\n",
              "      <td>2330000.0</td>\n",
              "      <td>PLN</td>\n",
              "      <td>NaN</td>\n",
              "      <td>False</td>\n",
              "      <td>NaN</td>\n",
              "      <td>True</td>\n",
              "      <td>NaN</td>\n",
              "      <td>NaN</td>\n",
              "      <td>NaN</td>\n",
              "      <td>NaN</td>\n",
              "      <td>2020.0</td>\n",
              "      <td>NaN</td>\n",
              "      <td>89.0</td>\n",
              "      <td>Firmy</td>\n",
              "      <td>NaN</td>\n",
              "      <td>Benzyna</td>\n",
              "      <td>341.0</td>\n",
              "      <td>SUV</td>\n",
              "      <td>Czarny</td>\n",
              "      <td>Nowe</td>\n",
              "      <td>NaN</td>\n",
              "      <td>4x4 (stały)</td>\n",
              "      <td>Automatyczna</td>\n",
              "      <td>2021-03-30 11:26:00</td>\n",
              "      <td>https://www.otomoto.pl/oferta/rolls-royce-cull...</td>\n",
              "    </tr>\n",
              "    <tr>\n",
              "      <th>159396</th>\n",
              "      <td>6081516477</td>\n",
              "      <td>rolls-royce</td>\n",
              "      <td>ghost</td>\n",
              "      <td>Warszawa</td>\n",
              "      <td>Mazowieckie</td>\n",
              "      <td>570.0</td>\n",
              "      <td>6592.0</td>\n",
              "      <td>2370000.0</td>\n",
              "      <td>PLN</td>\n",
              "      <td>Polska</td>\n",
              "      <td>False</td>\n",
              "      <td>NaN</td>\n",
              "      <td>True</td>\n",
              "      <td>NaN</td>\n",
              "      <td>NaN</td>\n",
              "      <td>True</td>\n",
              "      <td>NaN</td>\n",
              "      <td>2020.0</td>\n",
              "      <td>NaN</td>\n",
              "      <td>43.0</td>\n",
              "      <td>Firmy</td>\n",
              "      <td>True</td>\n",
              "      <td>Benzyna</td>\n",
              "      <td>347.0</td>\n",
              "      <td>Sedan</td>\n",
              "      <td>Niebieski</td>\n",
              "      <td>Nowe</td>\n",
              "      <td>NaN</td>\n",
              "      <td>4x4 (dołączany automatycznie)</td>\n",
              "      <td>Automatyczna</td>\n",
              "      <td>2021-04-07 13:28:00</td>\n",
              "      <td>https://www.otomoto.pl/oferta/rolls-royce-ghos...</td>\n",
              "    </tr>\n",
              "    <tr>\n",
              "      <th>147316</th>\n",
              "      <td>6081853876</td>\n",
              "      <td>porsche</td>\n",
              "      <td>911</td>\n",
              "      <td>Poznań</td>\n",
              "      <td>Wielkopolskie</td>\n",
              "      <td>700.0</td>\n",
              "      <td>3800.0</td>\n",
              "      <td>2583000.0</td>\n",
              "      <td>PLN</td>\n",
              "      <td>Polska</td>\n",
              "      <td>False</td>\n",
              "      <td>False</td>\n",
              "      <td>True</td>\n",
              "      <td>NaN</td>\n",
              "      <td>True</td>\n",
              "      <td>NaN</td>\n",
              "      <td>991 (2011-2018)</td>\n",
              "      <td>2019.0</td>\n",
              "      <td>2019-11-12 00:00:00</td>\n",
              "      <td>40.0</td>\n",
              "      <td>Firmy</td>\n",
              "      <td>True</td>\n",
              "      <td>Benzyna</td>\n",
              "      <td>NaN</td>\n",
              "      <td>Coupe</td>\n",
              "      <td>Biały</td>\n",
              "      <td>Używane</td>\n",
              "      <td>True</td>\n",
              "      <td>Na tylne koła</td>\n",
              "      <td>Automatyczna</td>\n",
              "      <td>2021-04-06 08:31:00</td>\n",
              "      <td>https://www.otomoto.pl/oferta/porsche-911-gt2-...</td>\n",
              "    </tr>\n",
              "    <tr>\n",
              "      <th>108232</th>\n",
              "      <td>6049745396</td>\n",
              "      <td>mercedes-benz</td>\n",
              "      <td>slr</td>\n",
              "      <td>Węgrzce</td>\n",
              "      <td>Małopolskie</td>\n",
              "      <td>650.0</td>\n",
              "      <td>5439.0</td>\n",
              "      <td>3490000.0</td>\n",
              "      <td>PLN</td>\n",
              "      <td>Polska</td>\n",
              "      <td>False</td>\n",
              "      <td>False</td>\n",
              "      <td>True</td>\n",
              "      <td>NaN</td>\n",
              "      <td>True</td>\n",
              "      <td>NaN</td>\n",
              "      <td>NaN</td>\n",
              "      <td>2009.0</td>\n",
              "      <td>2009-05-07 00:00:00</td>\n",
              "      <td>42000.0</td>\n",
              "      <td>Firmy</td>\n",
              "      <td>NaN</td>\n",
              "      <td>Benzyna</td>\n",
              "      <td>NaN</td>\n",
              "      <td>Kabriolet</td>\n",
              "      <td>Szary</td>\n",
              "      <td>Używane</td>\n",
              "      <td>True</td>\n",
              "      <td>Na tylne koła</td>\n",
              "      <td>Automatyczna</td>\n",
              "      <td>2021-04-10 14:40:00</td>\n",
              "      <td>https://www.otomoto.pl/oferta/mercedes-benz-sl...</td>\n",
              "    </tr>\n",
              "  </tbody>\n",
              "</table>\n",
              "</div>"
            ],
            "text/plain": [
              "                ID  ...                                               Link\n",
              "89842   6053669624  ...  https://www.otomoto.pl/oferta/lamborghini-aven...\n",
              "159394  6081276586  ...  https://www.otomoto.pl/oferta/rolls-royce-cull...\n",
              "159396  6081516477  ...  https://www.otomoto.pl/oferta/rolls-royce-ghos...\n",
              "147316  6081853876  ...  https://www.otomoto.pl/oferta/porsche-911-gt2-...\n",
              "108232  6049745396  ...  https://www.otomoto.pl/oferta/mercedes-benz-sl...\n",
              "\n",
              "[5 rows x 32 columns]"
            ]
          },
          "metadata": {
            "tags": []
          },
          "execution_count": 27
        }
      ]
    }
  ]
}